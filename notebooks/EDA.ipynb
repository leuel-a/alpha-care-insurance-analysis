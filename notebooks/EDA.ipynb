{
 "cells": [
  {
   "cell_type": "code",
   "id": "initial_id",
   "metadata": {
    "collapsed": true
   },
   "source": [
    "import numpy as np\n",
    "import pandas as pd\n",
    "import seaborn as sns\n",
    "import matplotlib.pyplot as plt\n",
    "\n",
    "from src.visualization import plot_box_plot\n",
    "from src.data_cleaning import remove_outliers_iqr\n",
    "from scripts.load_data import load_data, columns\n",
    "\n",
    "%matplotlib inline"
   ],
   "outputs": [],
   "execution_count": null
  },
  {
   "metadata": {},
   "cell_type": "code",
   "source": [
    "# load the data\n",
    "df = load_data()\n",
    "\n",
    "df.head(10)"
   ],
   "id": "530f6fa2146aa5e3",
   "outputs": [],
   "execution_count": null
  },
  {
   "metadata": {},
   "cell_type": "code",
   "source": "df.describe()",
   "id": "5e52fd62c126a575",
   "outputs": [],
   "execution_count": null
  },
  {
   "metadata": {},
   "cell_type": "code",
   "source": [
    "# citizenship has a lot of empty values that are considered as true values\n",
    "# replace them with nan values\n",
    "# also do this for all columns \n",
    "df.replace(r'^\\s*$', np.nan, regex=True, inplace=True)\n",
    "df.info()"
   ],
   "id": "3d3d99f463e9b721",
   "outputs": [],
   "execution_count": null
  },
  {
   "metadata": {},
   "cell_type": "code",
   "source": "df.shape",
   "id": "416f406bdc65d3dc",
   "outputs": [],
   "execution_count": null
  },
  {
   "metadata": {},
   "cell_type": "code",
   "source": [
    "df.rename(columns={\"mmcode\": \"MMCODE\", \"make\": \"Make\", \"cubiccapacity\": \"CubicCapacity\", \"kilowatts\": \"Kilowatts\",\n",
    "                   \"bodytype\": \"BodyType\"}, inplace=True)"
   ],
   "id": "308266fc6cfae6c7",
   "outputs": [],
   "execution_count": null
  },
  {
   "metadata": {},
   "cell_type": "code",
   "source": [
    "df[\"TransactionMonth\"] = pd.to_datetime(df[\n",
    "                                            \"TransactionMonth\"]).dt.date  # TODO: why does the pd.to_datetime(column).dt.date give an object instead of a datetime\n",
    "df[\"TransactionMonth\"] = pd.to_datetime(df[\"TransactionMonth\"])"
   ],
   "id": "fe6672b11b544789",
   "outputs": [],
   "execution_count": null
  },
  {
   "metadata": {},
   "cell_type": "code",
   "source": "df.dropna(subset=[\"MMCODE\"], inplace=True)",
   "id": "1de256aa3dc8bef8",
   "outputs": [],
   "execution_count": null
  },
  {
   "metadata": {},
   "cell_type": "code",
   "source": "df[\"CapitalOutstanding\"] = df[\"CapitalOutstanding\"].str.replace(\",\", \"\").astype(float)",
   "id": "8a065934dae3c834",
   "outputs": [],
   "execution_count": null
  },
  {
   "metadata": {},
   "cell_type": "code",
   "source": "df.dropna(subset=[\"CapitalOutstanding\"], axis=0, inplace=True)",
   "id": "b0ba5f3f3e8394ab",
   "outputs": [],
   "execution_count": null
  },
  {
   "metadata": {},
   "cell_type": "code",
   "source": [
    "df.fillna({\n",
    "    \"Citizenship\": df[\"Citizenship\"].mode()[0],\n",
    "    \"WrittenOff\": df[\"WrittenOff\"].mode()[0],\n",
    "    \"Rebuilt\": df[\"Rebuilt\"].mode()[0],\n",
    "    \"Converted\": df[\"Converted\"].mode()[0],\n",
    "    \"CrossBorder\": df[\"CrossBorder\"].mode()[0],\n",
    "    \"Bank\": df[\"Bank\"].mode()[0],\n",
    "    \"AccountType\": df[\"AccountType\"].mode()[0],\n",
    "    \"MaritalStatus\": df[\"MaritalStatus\"].mode()[0],\n",
    "    \"Gender\": df[\"Gender\"].mode()[0],\n",
    "    \"CustomValueEstimate\": 0,\n",
    "    \"NewVehicle\": df[\"NewVehicle\"].mode()[0],\n",
    "}, inplace=True)"
   ],
   "id": "d17f6ca80f612548",
   "outputs": [],
   "execution_count": null
  },
  {
   "metadata": {},
   "cell_type": "code",
   "source": [
    "# drop the NumberOfVehiclesInFleet column since there are not a single value registered\n",
    "df.drop(columns=[\"NumberOfVehiclesInFleet\"], inplace=True)"
   ],
   "id": "1d0f8f0fbf9dcbef",
   "outputs": [],
   "execution_count": null
  },
  {
   "metadata": {},
   "cell_type": "code",
   "source": [
    "df[\"Cylinders\"] = df[\"Cylinders\"].astype(int)\n",
    "df[\"NumberOfDoors\"] = df[\"Cylinders\"].astype(int)"
   ],
   "id": "753048aae5ceec60",
   "outputs": [],
   "execution_count": null
  },
  {
   "metadata": {},
   "cell_type": "code",
   "source": [
    "df[\"UnderwrittenCoverID\"] = df[\"UnderwrittenCoverID\"].astype(object)\n",
    "df[\"PolicyID\"] = df[\"PolicyID\"].astype(object)\n",
    "df[\"PostalCode\"] = df[\"PostalCode\"].astype(object)\n",
    "df[\"MMCODE\"] = df[\"MMCODE\"].astype(object)\n",
    "df[\"RegistrationYear\"] = df[\"RegistrationYear\"].astype(object)"
   ],
   "id": "62256c7070857e84",
   "outputs": [],
   "execution_count": null
  },
  {
   "metadata": {},
   "cell_type": "code",
   "source": "df.dtypes",
   "id": "cd3bacaba05240ac",
   "outputs": [],
   "execution_count": null
  },
  {
   "metadata": {},
   "cell_type": "code",
   "source": "df.info()",
   "id": "f1064342890ded27",
   "outputs": [],
   "execution_count": null
  },
  {
   "metadata": {},
   "cell_type": "code",
   "source": "df.isna().sum()",
   "id": "93a80ca87b604bf7",
   "outputs": [],
   "execution_count": null
  },
  {
   "metadata": {},
   "cell_type": "code",
   "source": [
    "vehicles_with_no_cylinders = np.unique(df[df[\"Cylinders\"] == 0][\"VehicleType\"])\n",
    "vehicles_with_no_cylinders"
   ],
   "id": "f406721beb0684ab",
   "outputs": [],
   "execution_count": null
  },
  {
   "metadata": {},
   "cell_type": "code",
   "source": [
    "for vehicle in vehicles_with_no_cylinders:\n",
    "    mode = df[(df[\"VehicleType\"] == vehicle) & (df[\"Cylinders\"] != 0)][\"Cylinders\"].mode()[0]\n",
    "    df[\"Cylinders\"] = np.where((df[\"VehicleType\"] == vehicle) & (df[\"Cylinders\"] == 0), mode, df[\"Cylinders\"])"
   ],
   "id": "2d085abd3692bfb5",
   "outputs": [],
   "execution_count": null
  },
  {
   "metadata": {},
   "cell_type": "code",
   "source": [
    "vehicles_with_no_doors = np.unique(df[df[\"NumberOfDoors\"] == 0][\"VehicleType\"])\n",
    "vehicles_with_no_doors"
   ],
   "id": "5483a5a1dc6dec2d",
   "outputs": [],
   "execution_count": null
  },
  {
   "metadata": {},
   "cell_type": "code",
   "source": [
    "for vehicle in vehicles_with_no_doors:\n",
    "    mode = df[(df[\"VehicleType\"] == vehicle) & (df[\"NumberOfDoors\"] != 0)][\"NumberOfDoors\"].mode()[0]\n",
    "    df[\"NumberOfDoors\"] = np.where((df[\"VehicleType\"] == vehicle) & (df[\"NumberOfDoors\"] == 0), mode, df[\"NumberOfDoors\"])"
   ],
   "id": "c599708471245fb8",
   "outputs": [],
   "execution_count": null
  },
  {
   "metadata": {},
   "cell_type": "code",
   "source": [
    "numeric_columns = df.select_dtypes(include=np.number).columns.tolist()\n",
    "numeric_columns"
   ],
   "id": "72c024a8f552161c",
   "outputs": [],
   "execution_count": null
  },
  {
   "metadata": {},
   "cell_type": "markdown",
   "source": "## Uni-variate Analysis",
   "id": "5956afb0758c9097"
  },
  {
   "metadata": {},
   "cell_type": "markdown",
   "source": [
    "### Cylinders of Insured Cards Distribution\n",
    "Here the most frequent value for the Cylinders is excluded from the pie chart because of the extreme size difference but a logarithmic scaled version of a bar chart can be found below"
   ],
   "id": "a2610bdd9229699e"
  },
  {
   "metadata": {},
   "cell_type": "code",
   "source": [
    "cylinders_perc = df[\"Cylinders\"].value_counts().reset_index()\n",
    "cylinders_perc.columns = [\"Cylinders\", \"Count\"]\n",
    "cylinders_perc[\"Percentages\"] = cylinders_perc[\"Count\"] / cylinders_perc[\"Count\"].sum()\n",
    "\n",
    "# explode = [0.0, 0.0, 0.0, 0.1, 0.2, 0.3]\n",
    "explode = [0.0, 0.0, 0.1, 0.2, 0.3]\n",
    "x = cylinders_perc[cylinders_perc[\"Cylinders\"] != 4]\n",
    "\n",
    "plt.figure(figsize=(20, 10))\n",
    "plt.title(\"Cylinders Percentages\")\n",
    "\n",
    "plt.pie(x[\"Percentages\"],explode=explode, pctdistance=1.5, labels=x[\"Cylinders\"])\n",
    "\n",
    "plt.legend([f\"{value} Cylinders\" for value in x[\"Cylinders\"]])\n",
    "plt.show()"
   ],
   "id": "e1adc9d804a7ea94",
   "outputs": [],
   "execution_count": null
  },
  {
   "metadata": {},
   "cell_type": "code",
   "source": [
    "plt.figure(figsize=(20, 10))\n",
    "plt.title('Bar Plot Showing the Cylinders Distribution')\n",
    "\n",
    "plt.bar(cylinders_perc['Cylinders'], cylinders_perc['Count'])\n",
    "\n",
    "plt.xticks(ticks=cylinders_perc['Cylinders'])\n",
    "plt.xlabel(\"Cylinders\")\n",
    "plt.ylabel(\"Count\")\n",
    "\n",
    "plt.yscale('log')\n",
    "plt.show()"
   ],
   "id": "56dda074b079acca",
   "outputs": [],
   "execution_count": null
  },
  {
   "metadata": {},
   "cell_type": "markdown",
   "source": [
    "### Cubic Capacity of Insured Vehicles Distribution\n",
    "\n",
    "Here I was able to detect alot of outliers when I used a box plot to plot the data. I then used the IQR method to remove the outliers and plot the data again. The box plot below shows the cubic capacity of the cars after removing the outliers"
   ],
   "id": "5296c8dec496e6aa"
  },
  {
   "metadata": {},
   "cell_type": "code",
   "source": "plot_box_plot(df, 'CubicCapacity', 'Cubic Capacity for Vehicles')",
   "id": "c47e1fe9b9589224",
   "outputs": [],
   "execution_count": null
  },
  {
   "metadata": {},
   "cell_type": "code",
   "source": [
    "df_no_outlier = remove_outliers_iqr(df, 'CubicCapacity')\n",
    "\n",
    "plot_box_plot(df_no_outlier, 'CubicCapacity', 'Cubic Capacity for Vehicles', outliers=False, step=100)"
   ],
   "id": "4e500d704e51fd2b",
   "outputs": [],
   "execution_count": null
  },
  {
   "metadata": {},
   "cell_type": "markdown",
   "source": "### Kilowatts of Insured Vehicles Distribution",
   "id": "1e46192da96d0f64"
  },
  {
   "metadata": {},
   "cell_type": "code",
   "source": "plot_box_plot(df_no_outlier, 'Kilowatts', 'Kilowatts for Vehicles')",
   "id": "2d0d7e1f49eba81c",
   "outputs": [],
   "execution_count": null
  },
  {
   "metadata": {},
   "cell_type": "code",
   "source": [
    "df_no_outlier = remove_outliers_iqr(df_no_outlier, 'Kilowatts')\n",
    "\n",
    "plot_box_plot(df_no_outlier, 'Kilowatts', 'Kilowatts for Vehicles', outliers=False, step=10)"
   ],
   "id": "6732816311cf625e",
   "outputs": [],
   "execution_count": null
  },
  {
   "metadata": {},
   "cell_type": "code",
   "source": [
    "plt.figure(figsize=(20, 10))\n",
    "sns.histplot(df_no_outlier, x='Kilowatts', bins=20, stat='frequency')"
   ],
   "id": "60c5b1716599ddc4",
   "outputs": [],
   "execution_count": null
  },
  {
   "metadata": {},
   "cell_type": "markdown",
   "source": "### Number of Doors in Insured Vehicles Distribution",
   "id": "4ad732ea45534159"
  },
  {
   "metadata": {},
   "cell_type": "code",
   "source": [
    "plt.figure(figsize=(20, 10))\n",
    "sns.countplot(df_no_outlier, x='NumberOfDoors')"
   ],
   "id": "a457ec30b5cac7b7",
   "outputs": [],
   "execution_count": null
  },
  {
   "metadata": {},
   "cell_type": "markdown",
   "source": "### Total Premium of Insured Cars Distribution",
   "id": "34eecfc104362ba6"
  },
  {
   "metadata": {
    "ExecuteTime": {
     "end_time": "2024-09-14T17:13:32.392566Z",
     "start_time": "2024-09-14T17:13:29.532047Z"
    }
   },
   "cell_type": "code",
   "source": "plot_box_plot(df, 'TotalPremium', 'Total Premium for Vehicles')",
   "id": "8387ce21a78efb9a",
   "outputs": [
    {
     "data": {
      "text/plain": [
       "<Figure size 2000x1000 with 1 Axes>"
      ],
      "image/png": "[encoded data removed]"
     },
     "metadata": {},
     "output_type": "display_data"
    }
   ],
   "execution_count": 38
  },
  {
   "metadata": {},
   "cell_type": "code",
   "source": [
    "df_no_outlier = remove_outliers_iqr(df_no_outlier, 'TotalPremium')\n",
    "\n",
    "plot_box_plot(df_no_outlier, 'TotalPremium')"
   ],
   "id": "417ac1b95c4bc2cd",
   "outputs": [],
   "execution_count": null
  },
  {
   "metadata": {},
   "cell_type": "code",
   "source": [
    "plt.figure(figsize=(20, 10))\n",
    "sns.histplot(df_no_outlier, x='TotalPremium', bins=20, stat='frequency')"
   ],
   "id": "d0fbbe77deaa8ec3",
   "outputs": [],
   "execution_count": null
  },
  {
   "metadata": {},
   "cell_type": "markdown",
   "source": "## Bivariate Analysis",
   "id": "9a303f6d69b8c19a"
  },
  {
   "metadata": {},
   "cell_type": "code",
   "source": "",
   "id": "5c9bcd5d2a36e3d4",
   "outputs": [],
   "execution_count": null
  }
 ],
 "metadata": {
  "kernelspec": {
   "display_name": "Python 3",
   "language": "python",
   "name": "python3"
  },
  "language_info": {
   "codemirror_mode": {
    "name": "ipython",
    "version": 2
   },
   "file_extension": ".py",
   "mimetype": "text/x-python",
   "name": "python",
   "nbconvert_exporter": "python",
   "pygments_lexer": "ipython2",
   "version": "2.7.6"
  }
 },
 "nbformat": 4,
 "nbformat_minor": 5
}
